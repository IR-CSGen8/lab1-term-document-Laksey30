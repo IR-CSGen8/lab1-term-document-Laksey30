{
 "cells": [
  {
   "cell_type": "code",
   "execution_count": 2,
   "id": "7580597b-1729-4a30-9de8-4e456c321e5f",
   "metadata": {},
   "outputs": [
    {
     "data": {
      "text/html": [
       "<div>\n",
       "<style scoped>\n",
       "    .dataframe tbody tr th:only-of-type {\n",
       "        vertical-align: middle;\n",
       "    }\n",
       "\n",
       "    .dataframe tbody tr th {\n",
       "        vertical-align: top;\n",
       "    }\n",
       "\n",
       "    .dataframe thead th {\n",
       "        text-align: right;\n",
       "    }\n",
       "</style>\n",
       "<table border=\"1\" class=\"dataframe\">\n",
       "  <thead>\n",
       "    <tr style=\"text-align: right;\">\n",
       "      <th></th>\n",
       "      <th>0</th>\n",
       "      <th>1</th>\n",
       "    </tr>\n",
       "  </thead>\n",
       "  <tbody>\n",
       "    <tr>\n",
       "      <th>0</th>\n",
       "      <td>Document 1</td>\n",
       "      <td>This is the first document. It contains some w...</td>\n",
       "    </tr>\n",
       "    <tr>\n",
       "      <th>1</th>\n",
       "      <td>Document 2</td>\n",
       "      <td>The second document is a bit longer and has di...</td>\n",
       "    </tr>\n",
       "    <tr>\n",
       "      <th>2</th>\n",
       "      <td>Document 3</td>\n",
       "      <td>The third document is short. Short documents c...</td>\n",
       "    </tr>\n",
       "  </tbody>\n",
       "</table>\n",
       "</div>"
      ],
      "text/plain": [
       "            0                                                  1\n",
       "0  Document 1  This is the first document. It contains some w...\n",
       "1  Document 2  The second document is a bit longer and has di...\n",
       "2  Document 3  The third document is short. Short documents c..."
      ]
     },
     "execution_count": 2,
     "metadata": {},
     "output_type": "execute_result"
    }
   ],
   "source": [
    "import pandas as pd\n",
    "reader= pd.read_csv(r\"C:\\Users\\leaks\\Desktop\\Home\\CADT\\CADT(Term 6)\\Information_Web_Retrieval_Analytics\\tdoc.csv\",header=None)\n",
    "reader"
   ]
  },
  {
   "cell_type": "code",
   "execution_count": 3,
   "id": "720d4a20-b4a2-4365-8b32-dc1114e5eb1e",
   "metadata": {},
   "outputs": [
    {
     "data": {
      "text/html": [
       "<div>\n",
       "<style scoped>\n",
       "    .dataframe tbody tr th:only-of-type {\n",
       "        vertical-align: middle;\n",
       "    }\n",
       "\n",
       "    .dataframe tbody tr th {\n",
       "        vertical-align: top;\n",
       "    }\n",
       "\n",
       "    .dataframe thead th {\n",
       "        text-align: right;\n",
       "    }\n",
       "</style>\n",
       "<table border=\"1\" class=\"dataframe\">\n",
       "  <thead>\n",
       "    <tr style=\"text-align: right;\">\n",
       "      <th></th>\n",
       "      <th>1</th>\n",
       "    </tr>\n",
       "  </thead>\n",
       "  <tbody>\n",
       "    <tr>\n",
       "      <th>0</th>\n",
       "      <td>This is the first document. It contains some w...</td>\n",
       "    </tr>\n",
       "    <tr>\n",
       "      <th>1</th>\n",
       "      <td>The second document is a bit longer and has di...</td>\n",
       "    </tr>\n",
       "    <tr>\n",
       "      <th>2</th>\n",
       "      <td>The third document is short. Short documents c...</td>\n",
       "    </tr>\n",
       "  </tbody>\n",
       "</table>\n",
       "</div>"
      ],
      "text/plain": [
       "                                                   1\n",
       "0  This is the first document. It contains some w...\n",
       "1  The second document is a bit longer and has di...\n",
       "2  The third document is short. Short documents c..."
      ]
     },
     "execution_count": 3,
     "metadata": {},
     "output_type": "execute_result"
    }
   ],
   "source": [
    "documents =reader[[1]]\n",
    "documents"
   ]
  },
  {
   "cell_type": "code",
   "execution_count": 4,
   "id": "ca568cc5-a501-4ef6-a34f-35a67297f5c9",
   "metadata": {},
   "outputs": [
    {
     "data": {
      "text/plain": [
       "['Document 1', 'Document 2', 'Document 3']"
      ]
     },
     "execution_count": 4,
     "metadata": {},
     "output_type": "execute_result"
    }
   ],
   "source": [
    "title=reader[0].tolist()\n",
    "title"
   ]
  },
  {
   "cell_type": "code",
   "execution_count": 5,
   "id": "dc01d2a0-e9b0-438d-af34-d34210e5029c",
   "metadata": {},
   "outputs": [
    {
     "data": {
      "text/plain": [
       "['This is the first document. It contains some words.',\n",
       " 'The second document is a bit longer and has different words.',\n",
       " 'The third document is short. Short documents can be concise.']"
      ]
     },
     "execution_count": 5,
     "metadata": {},
     "output_type": "execute_result"
    }
   ],
   "source": [
    "documents = reader[1].tolist()\n",
    "documents"
   ]
  },
  {
   "cell_type": "code",
   "execution_count": 6,
   "id": "b2b5a653-a749-4c0c-9cfb-a1a52d859778",
   "metadata": {},
   "outputs": [
    {
     "data": {
      "text/plain": [
       "{'It',\n",
       " 'Short',\n",
       " 'The',\n",
       " 'This',\n",
       " 'a',\n",
       " 'and',\n",
       " 'be',\n",
       " 'bit',\n",
       " 'can',\n",
       " 'concise.',\n",
       " 'contains',\n",
       " 'different',\n",
       " 'document',\n",
       " 'document.',\n",
       " 'documents',\n",
       " 'first',\n",
       " 'has',\n",
       " 'is',\n",
       " 'longer',\n",
       " 'second',\n",
       " 'short.',\n",
       " 'some',\n",
       " 'the',\n",
       " 'third',\n",
       " 'words.'}"
      ]
     },
     "execution_count": 6,
     "metadata": {},
     "output_type": "execute_result"
    }
   ],
   "source": [
    "unique_terms = {term for doc in documents for term in doc.split()}\n",
    "unique_terms"
   ]
  },
  {
   "cell_type": "code",
   "execution_count": 7,
   "id": "f99ebb6c-c925-4d37-b745-5c3939ffc2b0",
   "metadata": {},
   "outputs": [
    {
     "data": {
      "text/plain": [
       "{'The': [0, 1, 1],\n",
       " 'can': [0, 0, 1],\n",
       " 'some': [1, 0, 0],\n",
       " 'Short': [0, 0, 1],\n",
       " 'short.': [0, 0, 1],\n",
       " 'document.': [1, 0, 0],\n",
       " 'documents': [0, 0, 1],\n",
       " 'words.': [1, 1, 0],\n",
       " 'a': [1, 1, 1],\n",
       " 'different': [0, 1, 0],\n",
       " 'third': [0, 0, 1],\n",
       " 'first': [1, 0, 0],\n",
       " 'be': [0, 0, 1],\n",
       " 'the': [1, 0, 0],\n",
       " 'is': [1, 1, 1],\n",
       " 'concise.': [0, 0, 1],\n",
       " 'has': [0, 1, 0],\n",
       " 'longer': [0, 1, 0],\n",
       " 'and': [0, 1, 0],\n",
       " 'This': [1, 0, 0],\n",
       " 'It': [1, 0, 0],\n",
       " 'document': [1, 1, 1],\n",
       " 'contains': [1, 0, 0],\n",
       " 'second': [0, 1, 0],\n",
       " 'bit': [0, 1, 0]}"
      ]
     },
     "execution_count": 7,
     "metadata": {},
     "output_type": "execute_result"
    }
   ],
   "source": [
    "doc_term_matrix = {}\n",
    "\n",
    "# your code here\n",
    "for term in unique_terms:\n",
    "     doc_term_matrix[term]= []\n",
    "     for doc in documents:\n",
    "        if term in doc:\n",
    "            doc_term_matrix[term].append(1)\n",
    "        else:\n",
    "            doc_term_matrix[term].append(0)\n",
    "# display the result of the matrix\n",
    "doc_term_matrix"
   ]
  },
  {
   "cell_type": "code",
   "execution_count": 8,
   "id": "dbf1ef6a-f720-40b5-aa60-db3cd7a99681",
   "metadata": {},
   "outputs": [
    {
     "name": "stdout",
     "output_type": "stream",
     "text": [
      "-------\n",
      "[1 0 1]\n"
     ]
    },
    {
     "data": {
      "text/plain": [
       "['This is the first document. It contains some words.',\n",
       " 'The third document is short. Short documents can be concise.']"
      ]
     },
     "execution_count": 8,
     "metadata": {},
     "output_type": "execute_result"
    }
   ],
   "source": [
    "import numpy as np\n",
    "doc_array = np.array(documents, dtype='object')\n",
    "v1= np.array(doc_term_matrix['This'])\n",
    "v2= np.array(doc_term_matrix['short.'])\n",
    "print('-------')\n",
    "v3= v1|v2\n",
    "print(v3)\n",
    "[doc for doc in v3 * doc_array if doc]"
   ]
  },
  {
   "cell_type": "code",
   "execution_count": null,
   "id": "2f2f302c-4693-4a86-9bdb-3be8c7e3e2cd",
   "metadata": {},
   "outputs": [],
   "source": []
  },
  {
   "cell_type": "code",
   "execution_count": 9,
   "id": "7718a830-81c5-4774-b2cb-4c35fffca724",
   "metadata": {},
   "outputs": [],
   "source": [
    "df = pd.DataFrame(unique_terms)\n",
    "df.to_csv(r'C:\\Users\\leaks\\Desktop\\Home\\CADT\\CADT(Term 6)\\Information_Web_Retrieval_Analytics\\Lab3.csv')"
   ]
  },
  {
   "cell_type": "code",
   "execution_count": null,
   "id": "8424ff8c-a8e1-4f29-b0fa-eb802816cb80",
   "metadata": {},
   "outputs": [],
   "source": []
  }
 ],
 "metadata": {
  "kernelspec": {
   "display_name": "Python 3 (ipykernel)",
   "language": "python",
   "name": "python3"
  },
  "language_info": {
   "codemirror_mode": {
    "name": "ipython",
    "version": 3
   },
   "file_extension": ".py",
   "mimetype": "text/x-python",
   "name": "python",
   "nbconvert_exporter": "python",
   "pygments_lexer": "ipython3",
   "version": "3.11.4"
  }
 },
 "nbformat": 4,
 "nbformat_minor": 5
}
